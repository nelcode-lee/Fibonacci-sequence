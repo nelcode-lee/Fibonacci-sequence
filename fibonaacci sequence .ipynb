{
 "cells": [
  {
   "cell_type": "markdown",
   "id": "47a14cfc-d850-4ca3-aa5a-ca7f4b72c00e",
   "metadata": {},
   "source": [
    "## fibonaacci sequence "
   ]
  },
  {
   "cell_type": "code",
   "execution_count": 2,
   "id": "97d66711-784b-40ba-bc9d-7fe1ebe9b6f2",
   "metadata": {},
   "outputs": [],
   "source": [
    "import numpy as np\n",
    "import math"
   ]
  },
  {
   "cell_type": "code",
   "execution_count": 9,
   "id": "022812b1-a37d-4fe7-b239-63753bb05c39",
   "metadata": {},
   "outputs": [
    {
     "name": "stdout",
     "output_type": "stream",
     "text": [
      "34\n"
     ]
    }
   ],
   "source": [
    "\n",
    "# Function for nth fibonacci number \n",
    "def fibonacci(n):\n",
    "    a = 0\n",
    "    b = 1\n",
    "     \n",
    "    # Check is n is less\n",
    "    # than 0\n",
    "    if n < 0:\n",
    "        print(\"Incorrect input\")\n",
    "         \n",
    "    # Check is n is equal\n",
    "    # to 0\n",
    "    elif n == 0:\n",
    "        return 0\n",
    "       \n",
    "    # Check if n is equal to 1\n",
    "    elif n == 1:\n",
    "        return b\n",
    "    else:\n",
    "        for i in range(1, n):\n",
    "            c = a + b\n",
    "            a = b\n",
    "            b = c\n",
    "        return b\n",
    " \n",
    "# Driver Program\n",
    "print(fibonacci(9))\n"
   ]
  },
  {
   "cell_type": "code",
   "execution_count": null,
   "id": "868183a3-0eec-4d36-b564-b880b042f05f",
   "metadata": {},
   "outputs": [],
   "source": []
  }
 ],
 "metadata": {
  "kernelspec": {
   "display_name": "Python 3 (ipykernel)",
   "language": "python",
   "name": "python3"
  },
  "language_info": {
   "codemirror_mode": {
    "name": "ipython",
    "version": 3
   },
   "file_extension": ".py",
   "mimetype": "text/x-python",
   "name": "python",
   "nbconvert_exporter": "python",
   "pygments_lexer": "ipython3",
   "version": "3.11.5"
  }
 },
 "nbformat": 4,
 "nbformat_minor": 5
}
